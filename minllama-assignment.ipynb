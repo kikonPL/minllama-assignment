{
 "cells": [
  {
   "cell_type": "code",
   "execution_count": null,
   "metadata": {},
   "outputs": [
    {
     "ename": "NameError",
     "evalue": "name 'torch' is not defined",
     "output_type": "error",
     "traceback": [
      "\u001b[1;31m---------------------------------------------------------------------------\u001b[0m",
      "\u001b[1;31mNameError\u001b[0m                                 Traceback (most recent call last)",
      "Cell \u001b[1;32mIn[1], line 1\u001b[0m\n\u001b[1;32m----> 1\u001b[0m torch\u001b[39m.\u001b[39mrandn(\u001b[39m4\u001b[39m, \u001b[39m4\u001b[39m)\n",
      "\u001b[1;31mNameError\u001b[0m: name 'torch' is not defined"
     ]
    }
   ],
   "source": [
    "torch.randn(4, 4)"
   ]
  },
  {
   "cell_type": "code",
   "execution_count": null,
   "metadata": {},
   "outputs": [],
   "source": [
    "import torch"
   ]
  },
  {
   "cell_type": "code",
   "execution_count": null,
   "metadata": {},
   "outputs": [
    {
     "data": {
      "text/plain": [
       "tensor([[-0.4541,  0.7704,  0.7560, -0.3651],\n",
       "        [ 0.6689,  0.0406, -0.7767,  1.1087],\n",
       "        [ 0.7236, -1.8391,  0.1516, -1.6256],\n",
       "        [-2.3129, -0.3234,  0.2430, -1.1343]])"
      ]
     },
     "execution_count": 3,
     "metadata": {},
     "output_type": "execute_result"
    }
   ],
   "source": [
    "torch.randn(4, 4)"
   ]
  },
  {
   "cell_type": "code",
   "execution_count": null,
   "metadata": {},
   "outputs": [],
   "source": [
    "a = torch.randn(4, 4)"
   ]
  },
  {
   "cell_type": "code",
   "execution_count": null,
   "metadata": {},
   "outputs": [
    {
     "data": {
      "text/plain": [
       "tensor(-0.2610)"
      ]
     },
     "execution_count": 5,
     "metadata": {},
     "output_type": "execute_result"
    }
   ],
   "source": [
    "torch.mean(a)"
   ]
  },
  {
   "cell_type": "code",
   "execution_count": null,
   "metadata": {},
   "outputs": [
    {
     "data": {
      "text/plain": [
       "tensor([ 0.3686, -0.8157, -0.3212, -0.2757])"
      ]
     },
     "execution_count": 6,
     "metadata": {},
     "output_type": "execute_result"
    }
   ],
   "source": [
    "torch.mean(a, 0)"
   ]
  },
  {
   "cell_type": "code",
   "execution_count": null,
   "metadata": {},
   "outputs": [
    {
     "data": {
      "text/plain": [
       "tensor([[ 0.3686, -0.8157, -0.3212, -0.2757]])"
      ]
     },
     "execution_count": 7,
     "metadata": {},
     "output_type": "execute_result"
    }
   ],
   "source": [
    "torch.mean(a, 0, keepdim = True)"
   ]
  },
  {
   "cell_type": "code",
   "execution_count": null,
   "metadata": {},
   "outputs": [
    {
     "data": {
      "text/plain": [
       "tensor([[ 0.3228, -0.8105, -0.5150,  0.5570],\n",
       "        [ 1.2147, -0.0608, -0.9249, -0.5291],\n",
       "        [ 0.0893, -1.5286,  0.5906, -0.1457],\n",
       "        [-0.1526, -0.8628, -0.4355, -0.9849]])"
      ]
     },
     "execution_count": 8,
     "metadata": {},
     "output_type": "execute_result"
    }
   ],
   "source": [
    "a"
   ]
  },
  {
   "cell_type": "code",
   "execution_count": null,
   "metadata": {},
   "outputs": [
    {
     "data": {
      "text/plain": [
       "tensor([[-0.1114],\n",
       "        [-0.0750],\n",
       "        [-0.2486],\n",
       "        [-0.6089]])"
      ]
     },
     "execution_count": 9,
     "metadata": {},
     "output_type": "execute_result"
    }
   ],
   "source": [
    "torch.mean(a, 1, keepdim = True)"
   ]
  },
  {
   "cell_type": "code",
   "execution_count": null,
   "metadata": {},
   "outputs": [
    {
     "data": {
      "text/plain": [
       "tensor([[ 0.4342, -0.6991, -0.4035,  0.6684],\n",
       "        [ 1.2898,  0.0142, -0.8499, -0.4541],\n",
       "        [ 0.3379, -1.2800,  0.8392,  0.1029],\n",
       "        [ 0.4564, -0.2538,  0.1734, -0.3760]])"
      ]
     },
     "execution_count": 10,
     "metadata": {},
     "output_type": "execute_result"
    }
   ],
   "source": [
    "a - torch.mean(a, 1, keepdim = True)"
   ]
  },
  {
   "cell_type": "code",
   "execution_count": null,
   "metadata": {},
   "outputs": [
    {
     "data": {
      "text/plain": [
       "tensor([[0.1042, 0.6569, 0.2652, 0.3103],\n",
       "        [1.4756, 0.0037, 0.8555, 0.2800],\n",
       "        [0.0080, 2.3367, 0.3488, 0.0212],\n",
       "        [0.0233, 0.7444, 0.1897, 0.9701]])"
      ]
     },
     "execution_count": 11,
     "metadata": {},
     "output_type": "execute_result"
    }
   ],
   "source": [
    "a**2"
   ]
  },
  {
   "cell_type": "code",
   "execution_count": null,
   "metadata": {},
   "outputs": [
    {
     "data": {
      "text/plain": [
       "tensor([[0.5780],\n",
       "        [0.8085],\n",
       "        [0.8238],\n",
       "        [0.6942]])"
      ]
     },
     "execution_count": 12,
     "metadata": {},
     "output_type": "execute_result"
    }
   ],
   "source": [
    "torch.sqrt(torch.mean(a**2, 1, keepdim = True))"
   ]
  },
  {
   "cell_type": "code",
   "execution_count": null,
   "metadata": {},
   "outputs": [],
   "source": [
    "def _norm(self, x):\n",
    "        \"\"\"\n",
    "        Compute the root mean square normalization. Use Equation 4 under\n",
    "        Section 4 of https://arxiv.org/abs/1910.07467 as a reference. Add \n",
    "        the given epsilon value (self.eps) to the tensor's norm (i.e. inside\n",
    "        the square root in Equation 4) before normalizing the tensor.\n",
    "\n",
    "        Args:\n",
    "            x (torch.Tensor): The input tensor.\n",
    "\n",
    "        Returns:\n",
    "            torch.Tensor: The normalized tensor.\n",
    "        \"\"\"\n",
    "        xmean = torch.mean(x, 1, keepdim = True)\n",
    "        rms = torch.sqrt(torch.mean(x**2, 1, keepdim = True))\n",
    "\n",
    "        x_norm = (x-xmean)/(rms+self.eps)\n",
    "\n",
    "        return x_norm\n"
   ]
  },
  {
   "cell_type": "code",
   "execution_count": null,
   "metadata": {},
   "outputs": [],
   "source": [
    "def _norm(x):\n",
    "        \"\"\"\n",
    "        Compute the root mean square normalization. Use Equation 4 under\n",
    "        Section 4 of https://arxiv.org/abs/1910.07467 as a reference. Add \n",
    "        the given epsilon value (self.eps) to the tensor's norm (i.e. inside\n",
    "        the square root in Equation 4) before normalizing the tensor.\n",
    "\n",
    "        Args:\n",
    "            x (torch.Tensor): The input tensor.\n",
    "\n",
    "        Returns:\n",
    "            torch.Tensor: The normalized tensor.\n",
    "        \"\"\"\n",
    "        xmean = torch.mean(x, 1, keepdim = True)\n",
    "        rms = torch.sqrt(torch.mean(x**2, 1, keepdim = True))\n",
    "\n",
    "        x_norm = (x-xmean)/(rms+1e-6)\n",
    "\n",
    "        return x_norm\n"
   ]
  },
  {
   "cell_type": "code",
   "execution_count": null,
   "metadata": {},
   "outputs": [
    {
     "data": {
      "text/plain": [
       "tensor([[ 0.3228, -0.8105, -0.5150,  0.5570],\n",
       "        [ 1.2147, -0.0608, -0.9249, -0.5291],\n",
       "        [ 0.0893, -1.5286,  0.5906, -0.1457],\n",
       "        [-0.1526, -0.8628, -0.4355, -0.9849]])"
      ]
     },
     "execution_count": 15,
     "metadata": {},
     "output_type": "execute_result"
    }
   ],
   "source": [
    "a"
   ]
  },
  {
   "cell_type": "code",
   "execution_count": null,
   "metadata": {},
   "outputs": [
    {
     "data": {
      "text/plain": [
       "tensor([[ 0.7511, -1.2094, -0.6981,  1.1564],\n",
       "        [ 1.5952,  0.0176, -1.0512, -0.5616],\n",
       "        [ 0.4102, -1.5538,  1.0187,  0.1249],\n",
       "        [ 0.6575, -0.3657,  0.2498, -0.5416]])"
      ]
     },
     "execution_count": 16,
     "metadata": {},
     "output_type": "execute_result"
    }
   ],
   "source": [
    "_norm(a)"
   ]
  },
  {
   "cell_type": "code",
   "execution_count": null,
   "metadata": {},
   "outputs": [],
   "source": [
    "def _norm(x):\n",
    "        \"\"\"\n",
    "        Compute the root mean square normalization. Use Equation 4 under\n",
    "        Section 4 of https://arxiv.org/abs/1910.07467 as a reference. Add \n",
    "        the given epsilon value (self.eps) to the tensor's norm (i.e. inside\n",
    "        the square root in Equation 4) before normalizing the tensor.\n",
    "\n",
    "        Args:\n",
    "            x (torch.Tensor): The input tensor.\n",
    "\n",
    "        Returns:\n",
    "            torch.Tensor: The normalized tensor.\n",
    "        \"\"\"\n",
    "        xmean = torch.mean(x, 1, keepdim = True)\n",
    "        rms = torch.sqrt(torch.mean(x**2, -11, keepdim = True))\n",
    "\n",
    "        x_norm = (x-xmean)/(rms+1e-6)\n",
    "\n",
    "        return x_norm\n"
   ]
  },
  {
   "cell_type": "code",
   "execution_count": null,
   "metadata": {},
   "outputs": [
    {
     "ename": "IndexError",
     "evalue": "Dimension out of range (expected to be in range of [-2, 1], but got -11)",
     "output_type": "error",
     "traceback": [
      "\u001b[1;31m---------------------------------------------------------------------------\u001b[0m",
      "\u001b[1;31mIndexError\u001b[0m                                Traceback (most recent call last)",
      "Cell \u001b[1;32mIn[18], line 1\u001b[0m\n\u001b[1;32m----> 1\u001b[0m _norm(a)\n",
      "Cell \u001b[1;32mIn[17], line 15\u001b[0m, in \u001b[0;36m_norm\u001b[1;34m(x)\u001b[0m\n\u001b[0;32m      2\u001b[0m \u001b[39m\u001b[39m\u001b[39m\"\"\"\u001b[39;00m\n\u001b[0;32m      3\u001b[0m \u001b[39mCompute the root mean square normalization. Use Equation 4 under\u001b[39;00m\n\u001b[0;32m      4\u001b[0m \u001b[39mSection 4 of https://arxiv.org/abs/1910.07467 as a reference. Add \u001b[39;00m\n\u001b[1;32m   (...)\u001b[0m\n\u001b[0;32m     12\u001b[0m \u001b[39m    torch.Tensor: The normalized tensor.\u001b[39;00m\n\u001b[0;32m     13\u001b[0m \u001b[39m\"\"\"\u001b[39;00m\n\u001b[0;32m     14\u001b[0m xmean \u001b[39m=\u001b[39m torch\u001b[39m.\u001b[39mmean(x, \u001b[39m1\u001b[39m, keepdim \u001b[39m=\u001b[39m \u001b[39mTrue\u001b[39;00m)\n\u001b[1;32m---> 15\u001b[0m rms \u001b[39m=\u001b[39m torch\u001b[39m.\u001b[39msqrt(torch\u001b[39m.\u001b[39;49mmean(x\u001b[39m*\u001b[39;49m\u001b[39m*\u001b[39;49m\u001b[39m2\u001b[39;49m, \u001b[39m-\u001b[39;49m\u001b[39m11\u001b[39;49m, keepdim \u001b[39m=\u001b[39;49m \u001b[39mTrue\u001b[39;49;00m))\n\u001b[0;32m     17\u001b[0m x_norm \u001b[39m=\u001b[39m (x\u001b[39m-\u001b[39mxmean)\u001b[39m/\u001b[39m(rms\u001b[39m+\u001b[39m\u001b[39m1e-6\u001b[39m)\n\u001b[0;32m     19\u001b[0m \u001b[39mreturn\u001b[39;00m x_norm\n",
      "\u001b[1;31mIndexError\u001b[0m: Dimension out of range (expected to be in range of [-2, 1], but got -11)"
     ]
    }
   ],
   "source": [
    "_norm(a)"
   ]
  },
  {
   "cell_type": "code",
   "execution_count": null,
   "metadata": {},
   "outputs": [],
   "source": [
    "def _norm(x):\n",
    "        \"\"\"\n",
    "        Compute the root mean square normalization. Use Equation 4 under\n",
    "        Section 4 of https://arxiv.org/abs/1910.07467 as a reference. Add \n",
    "        the given epsilon value (self.eps) to the tensor's norm (i.e. inside\n",
    "        the square root in Equation 4) before normalizing the tensor.\n",
    "\n",
    "        Args:\n",
    "            x (torch.Tensor): The input tensor.\n",
    "\n",
    "        Returns:\n",
    "            torch.Tensor: The normalized tensor.\n",
    "        \"\"\"\n",
    "        xmean = torch.mean(x, 1, keepdim = True)\n",
    "        rms = torch.sqrt(torch.mean(x**2, -1, keepdim = True))\n",
    "\n",
    "        x_norm = (x-xmean)/(rms+1e-6)\n",
    "\n",
    "        return x_norm\n"
   ]
  },
  {
   "cell_type": "code",
   "execution_count": null,
   "metadata": {},
   "outputs": [
    {
     "data": {
      "text/plain": [
       "tensor([[ 0.7511, -1.2094, -0.6981,  1.1564],\n",
       "        [ 1.5952,  0.0176, -1.0512, -0.5616],\n",
       "        [ 0.4102, -1.5538,  1.0187,  0.1249],\n",
       "        [ 0.6575, -0.3657,  0.2498, -0.5416]])"
      ]
     },
     "execution_count": 20,
     "metadata": {},
     "output_type": "execute_result"
    }
   ],
   "source": [
    "_norm(a)"
   ]
  },
  {
   "cell_type": "code",
   "execution_count": null,
   "metadata": {},
   "outputs": [],
   "source": [
    "a= torch.tensor([[1, 2, 3], [-1, 0, 1]])"
   ]
  },
  {
   "cell_type": "code",
   "execution_count": null,
   "metadata": {},
   "outputs": [
    {
     "ename": "RuntimeError",
     "evalue": "mean(): could not infer output dtype. Input dtype must be either a floating point or complex dtype. Got: Long",
     "output_type": "error",
     "traceback": [
      "\u001b[1;31m---------------------------------------------------------------------------\u001b[0m",
      "\u001b[1;31mRuntimeError\u001b[0m                              Traceback (most recent call last)",
      "Cell \u001b[1;32mIn[22], line 1\u001b[0m\n\u001b[1;32m----> 1\u001b[0m _norm(a)\n",
      "Cell \u001b[1;32mIn[19], line 14\u001b[0m, in \u001b[0;36m_norm\u001b[1;34m(x)\u001b[0m\n\u001b[0;32m      1\u001b[0m \u001b[39mdef\u001b[39;00m \u001b[39m_norm\u001b[39m(x):\n\u001b[0;32m      2\u001b[0m \u001b[39m        \u001b[39m\u001b[39m\"\"\"\u001b[39;00m\n\u001b[0;32m      3\u001b[0m \u001b[39m        Compute the root mean square normalization. Use Equation 4 under\u001b[39;00m\n\u001b[0;32m      4\u001b[0m \u001b[39m        Section 4 of https://arxiv.org/abs/1910.07467 as a reference. Add \u001b[39;00m\n\u001b[1;32m   (...)\u001b[0m\n\u001b[0;32m     12\u001b[0m \u001b[39m            torch.Tensor: The normalized tensor.\u001b[39;00m\n\u001b[0;32m     13\u001b[0m \u001b[39m        \"\"\"\u001b[39;00m\n\u001b[1;32m---> 14\u001b[0m         xmean \u001b[39m=\u001b[39m torch\u001b[39m.\u001b[39;49mmean(x, \u001b[39m1\u001b[39;49m, keepdim \u001b[39m=\u001b[39;49m \u001b[39mTrue\u001b[39;49;00m)\n\u001b[0;32m     15\u001b[0m         rms \u001b[39m=\u001b[39m torch\u001b[39m.\u001b[39msqrt(torch\u001b[39m.\u001b[39mmean(x\u001b[39m*\u001b[39m\u001b[39m*\u001b[39m\u001b[39m2\u001b[39m, \u001b[39m-\u001b[39m\u001b[39m1\u001b[39m, keepdim \u001b[39m=\u001b[39m \u001b[39mTrue\u001b[39;00m))\n\u001b[0;32m     17\u001b[0m         x_norm \u001b[39m=\u001b[39m (x\u001b[39m-\u001b[39mxmean)\u001b[39m/\u001b[39m(rms\u001b[39m+\u001b[39m\u001b[39m1e-6\u001b[39m)\n",
      "\u001b[1;31mRuntimeError\u001b[0m: mean(): could not infer output dtype. Input dtype must be either a floating point or complex dtype. Got: Long"
     ]
    }
   ],
   "source": [
    "_norm(a)"
   ]
  },
  {
   "cell_type": "code",
   "execution_count": null,
   "metadata": {},
   "outputs": [],
   "source": [
    "a= torch.tensor([[1, 2, 3], [-1, 0, 1]], dtype=torch.float64)"
   ]
  },
  {
   "cell_type": "code",
   "execution_count": null,
   "metadata": {},
   "outputs": [
    {
     "data": {
      "text/plain": [
       "tensor([[-0.4629,  0.0000,  0.4629],\n",
       "        [-1.2247,  0.0000,  1.2247]], dtype=torch.float64)"
      ]
     },
     "execution_count": 24,
     "metadata": {},
     "output_type": "execute_result"
    }
   ],
   "source": [
    "_norm(a)"
   ]
  },
  {
   "cell_type": "code",
   "execution_count": null,
   "metadata": {},
   "outputs": [],
   "source": [
    "a= torch.tensor([[1, 2, 3, 0], [-2, 0, 2,0]], dtype=torch.float64)"
   ]
  },
  {
   "cell_type": "code",
   "execution_count": null,
   "metadata": {},
   "outputs": [
    {
     "data": {
      "text/plain": [
       "tensor([[-0.2673,  0.2673,  0.8018, -0.8018],\n",
       "        [-1.4142,  0.0000,  1.4142,  0.0000]], dtype=torch.float64)"
      ]
     },
     "execution_count": 26,
     "metadata": {},
     "output_type": "execute_result"
    }
   ],
   "source": [
    "_norm(a)"
   ]
  },
  {
   "cell_type": "code",
   "execution_count": null,
   "metadata": {},
   "outputs": [],
   "source": [
    "a= torch.tensor([[1, 2, 3, 0], [-2, -2, 2,2]], dtype=torch.float64)"
   ]
  },
  {
   "cell_type": "code",
   "execution_count": null,
   "metadata": {},
   "outputs": [
    {
     "data": {
      "text/plain": [
       "tensor([[-0.2673,  0.2673,  0.8018, -0.8018],\n",
       "        [-1.0000, -1.0000,  1.0000,  1.0000]], dtype=torch.float64)"
      ]
     },
     "execution_count": 28,
     "metadata": {},
     "output_type": "execute_result"
    }
   ],
   "source": [
    "_norm(a)"
   ]
  },
  {
   "cell_type": "code",
   "execution_count": null,
   "metadata": {},
   "outputs": [
    {
     "data": {
      "text/plain": [
       "tensor([[ 1.,  2.,  3.,  0.],\n",
       "        [-2., -2.,  2.,  2.]], dtype=torch.float64)"
      ]
     },
     "execution_count": 29,
     "metadata": {},
     "output_type": "execute_result"
    }
   ],
   "source": [
    "a"
   ]
  },
  {
   "cell_type": "code",
   "execution_count": null,
   "metadata": {},
   "outputs": [],
   "source": [
    "seq_len = 4"
   ]
  },
  {
   "cell_type": "code",
   "execution_count": null,
   "metadata": {},
   "outputs": [],
   "source": [
    "head_dim = 3"
   ]
  }
 ],
 "metadata": {
  "language_info": {
   "codemirror_mode": {
    "name": "ipython",
    "version": 3
   },
   "file_extension": ".py",
   "mimetype": "text/x-python",
   "name": "python",
   "nbconvert_exporter": "python",
   "pygments_lexer": "ipython3",
   "version": 3
  }
 },
 "nbformat": 4,
 "nbformat_minor": 2
}
